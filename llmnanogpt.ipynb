{
 "cells": [
  {
   "cell_type": "code",
   "id": "initial_id",
   "metadata": {
    "collapsed": true,
    "ExecuteTime": {
     "end_time": "2024-05-15T18:55:21.888816Z",
     "start_time": "2024-05-15T18:55:21.886235Z"
    }
   },
   "source": "print(\"hello world\")",
   "outputs": [
    {
     "name": "stdout",
     "output_type": "stream",
     "text": [
      "hello world\n"
     ]
    }
   ],
   "execution_count": 1
  },
  {
   "metadata": {
    "ExecuteTime": {
     "end_time": "2024-05-15T19:37:30.129073Z",
     "start_time": "2024-05-15T19:37:30.124395Z"
    }
   },
   "cell_type": "code",
   "source": [
    "with open('input.txt', 'r', encoding='utf-8') as f:\n",
    "  raw_training_data = f.read()\n",
    "\n",
    "print(len(raw_training_data))"
   ],
   "id": "5039825501f7ed79",
   "outputs": [
    {
     "name": "stdout",
     "output_type": "stream",
     "text": [
      "1115394\n"
     ]
    }
   ],
   "execution_count": 16
  },
  {
   "metadata": {
    "ExecuteTime": {
     "end_time": "2024-05-15T19:37:45.730023Z",
     "start_time": "2024-05-15T19:37:45.717926Z"
    }
   },
   "cell_type": "code",
   "source": "len(set(raw_training_data))",
   "id": "a8be3790674921fb",
   "outputs": [
    {
     "data": {
      "text/plain": [
       "65"
      ]
     },
     "execution_count": 17,
     "metadata": {},
     "output_type": "execute_result"
    }
   ],
   "execution_count": 17
  },
  {
   "metadata": {
    "ExecuteTime": {
     "end_time": "2024-05-15T19:37:55.619654Z",
     "start_time": "2024-05-15T19:37:55.607410Z"
    }
   },
   "cell_type": "code",
   "source": "''.join(sorted(set(raw_training_data)))",
   "id": "26ebce1c0b136042",
   "outputs": [
    {
     "data": {
      "text/plain": [
       "\"\\n !$&',-.3:;?ABCDEFGHIJKLMNOPQRSTUVWXYZabcdefghijklmnopqrstuvwxyz\""
      ]
     },
     "execution_count": 18,
     "metadata": {},
     "output_type": "execute_result"
    }
   ],
   "execution_count": 18
  },
  {
   "metadata": {
    "ExecuteTime": {
     "end_time": "2024-05-15T19:38:04.866879Z",
     "start_time": "2024-05-15T19:38:04.772775Z"
    }
   },
   "cell_type": "code",
   "source": [
    "from collections import defaultdict\n",
    "\n",
    "freqs = defaultdict(int)\n",
    "\n",
    "for letter in raw_training_data:\n",
    "  freqs[letter] += 1\n",
    "\n",
    "freqs"
   ],
   "id": "d381c57876ff54f7",
   "outputs": [
    {
     "data": {
      "text/plain": [
       "defaultdict(int,\n",
       "            {'F': 1797,\n",
       "             'i': 45537,\n",
       "             'r': 48889,\n",
       "             's': 49696,\n",
       "             't': 67009,\n",
       "             ' ': 169892,\n",
       "             'C': 3820,\n",
       "             'z': 356,\n",
       "             'e': 94611,\n",
       "             'n': 48529,\n",
       "             ':': 10316,\n",
       "             '\\n': 40000,\n",
       "             'B': 2761,\n",
       "             'f': 15770,\n",
       "             'o': 65798,\n",
       "             'w': 17585,\n",
       "             'p': 10808,\n",
       "             'c': 15623,\n",
       "             'd': 31358,\n",
       "             'a': 55507,\n",
       "             'y': 20448,\n",
       "             'u': 26584,\n",
       "             'h': 51310,\n",
       "             ',': 19846,\n",
       "             'm': 22243,\n",
       "             'k': 7088,\n",
       "             '.': 7885,\n",
       "             'A': 7819,\n",
       "             'l': 33339,\n",
       "             'S': 4523,\n",
       "             'Y': 1718,\n",
       "             'v': 7793,\n",
       "             '?': 2462,\n",
       "             'R': 4869,\n",
       "             'M': 2840,\n",
       "             'W': 3530,\n",
       "             \"'\": 6187,\n",
       "             'L': 3876,\n",
       "             'I': 11832,\n",
       "             'N': 5079,\n",
       "             'g': 13356,\n",
       "             ';': 3628,\n",
       "             'b': 11321,\n",
       "             '!': 2172,\n",
       "             'O': 5481,\n",
       "             'j': 628,\n",
       "             'V': 798,\n",
       "             '-': 1897,\n",
       "             'T': 7015,\n",
       "             'H': 3068,\n",
       "             'E': 6041,\n",
       "             'U': 3313,\n",
       "             'D': 2089,\n",
       "             'P': 1641,\n",
       "             'q': 609,\n",
       "             'x': 529,\n",
       "             'J': 320,\n",
       "             'G': 2399,\n",
       "             'K': 1584,\n",
       "             'Q': 231,\n",
       "             '&': 3,\n",
       "             'Z': 198,\n",
       "             'X': 112,\n",
       "             '3': 27,\n",
       "             '$': 1})"
      ]
     },
     "execution_count": 19,
     "metadata": {},
     "output_type": "execute_result"
    }
   ],
   "execution_count": 19
  },
  {
   "metadata": {
    "ExecuteTime": {
     "end_time": "2024-05-15T19:38:16.027430Z",
     "start_time": "2024-05-15T19:38:16.025397Z"
    }
   },
   "cell_type": "code",
   "source": [
    "import random\n",
    "\n",
    "SAMPLE_SIZE = 500\n",
    "training_data_size = len(raw_training_data)\n",
    "start = random.randrange(0, training_data_size - SAMPLE_SIZE)\n",
    "print(raw_training_data[start:start+SAMPLE_SIZE])"
   ],
   "id": "b36f404bd2c40ffd",
   "outputs": [
    {
     "name": "stdout",
     "output_type": "stream",
     "text": [
      " his new honours, which\n",
      "That he will give them make I as little question\n",
      "As he is proud to do't.\n",
      "\n",
      "BRUTUS:\n",
      "I heard him swear,\n",
      "Were he to stand for consul, never would he\n",
      "Appear i' the market-place nor on him put\n",
      "The napless vesture of humility;\n",
      "Nor showing, as the manner is, his wounds\n",
      "To the people, beg their stinking breaths.\n",
      "\n",
      "SICINIUS:\n",
      "'Tis right.\n",
      "\n",
      "BRUTUS:\n",
      "It was his word: O, he would miss it rather\n",
      "Than carry it but by the suit of the gentry to him,\n",
      "And the desire of the nobles.\n",
      "\n",
      "SICINIUS:\n",
      "I \n"
     ]
    }
   ],
   "execution_count": 20
  },
  {
   "metadata": {
    "ExecuteTime": {
     "end_time": "2024-05-15T19:38:26.636249Z",
     "start_time": "2024-05-15T19:38:26.626179Z"
    }
   },
   "cell_type": "code",
   "source": [
    "tokens = ''.join(sorted(set(raw_training_data)))\n",
    "token_to_number = {t: i for i, t in enumerate(tokens)}\n",
    "token_to_number"
   ],
   "id": "69e8d2f4284ef3d4",
   "outputs": [
    {
     "data": {
      "text/plain": [
       "{'\\n': 0,\n",
       " ' ': 1,\n",
       " '!': 2,\n",
       " '$': 3,\n",
       " '&': 4,\n",
       " \"'\": 5,\n",
       " ',': 6,\n",
       " '-': 7,\n",
       " '.': 8,\n",
       " '3': 9,\n",
       " ':': 10,\n",
       " ';': 11,\n",
       " '?': 12,\n",
       " 'A': 13,\n",
       " 'B': 14,\n",
       " 'C': 15,\n",
       " 'D': 16,\n",
       " 'E': 17,\n",
       " 'F': 18,\n",
       " 'G': 19,\n",
       " 'H': 20,\n",
       " 'I': 21,\n",
       " 'J': 22,\n",
       " 'K': 23,\n",
       " 'L': 24,\n",
       " 'M': 25,\n",
       " 'N': 26,\n",
       " 'O': 27,\n",
       " 'P': 28,\n",
       " 'Q': 29,\n",
       " 'R': 30,\n",
       " 'S': 31,\n",
       " 'T': 32,\n",
       " 'U': 33,\n",
       " 'V': 34,\n",
       " 'W': 35,\n",
       " 'X': 36,\n",
       " 'Y': 37,\n",
       " 'Z': 38,\n",
       " 'a': 39,\n",
       " 'b': 40,\n",
       " 'c': 41,\n",
       " 'd': 42,\n",
       " 'e': 43,\n",
       " 'f': 44,\n",
       " 'g': 45,\n",
       " 'h': 46,\n",
       " 'i': 47,\n",
       " 'j': 48,\n",
       " 'k': 49,\n",
       " 'l': 50,\n",
       " 'm': 51,\n",
       " 'n': 52,\n",
       " 'o': 53,\n",
       " 'p': 54,\n",
       " 'q': 55,\n",
       " 'r': 56,\n",
       " 's': 57,\n",
       " 't': 58,\n",
       " 'u': 59,\n",
       " 'v': 60,\n",
       " 'w': 61,\n",
       " 'x': 62,\n",
       " 'y': 63,\n",
       " 'z': 64}"
      ]
     },
     "execution_count": 21,
     "metadata": {},
     "output_type": "execute_result"
    }
   ],
   "execution_count": 21
  },
  {
   "metadata": {
    "ExecuteTime": {
     "end_time": "2024-05-15T19:38:36.826164Z",
     "start_time": "2024-05-15T19:38:36.821704Z"
    }
   },
   "cell_type": "code",
   "source": [
    "number_to_token = {i: t for i, t in enumerate(tokens)}\n",
    "number_to_token"
   ],
   "id": "f9fc4f0a34d6c38e",
   "outputs": [
    {
     "data": {
      "text/plain": [
       "{0: '\\n',\n",
       " 1: ' ',\n",
       " 2: '!',\n",
       " 3: '$',\n",
       " 4: '&',\n",
       " 5: \"'\",\n",
       " 6: ',',\n",
       " 7: '-',\n",
       " 8: '.',\n",
       " 9: '3',\n",
       " 10: ':',\n",
       " 11: ';',\n",
       " 12: '?',\n",
       " 13: 'A',\n",
       " 14: 'B',\n",
       " 15: 'C',\n",
       " 16: 'D',\n",
       " 17: 'E',\n",
       " 18: 'F',\n",
       " 19: 'G',\n",
       " 20: 'H',\n",
       " 21: 'I',\n",
       " 22: 'J',\n",
       " 23: 'K',\n",
       " 24: 'L',\n",
       " 25: 'M',\n",
       " 26: 'N',\n",
       " 27: 'O',\n",
       " 28: 'P',\n",
       " 29: 'Q',\n",
       " 30: 'R',\n",
       " 31: 'S',\n",
       " 32: 'T',\n",
       " 33: 'U',\n",
       " 34: 'V',\n",
       " 35: 'W',\n",
       " 36: 'X',\n",
       " 37: 'Y',\n",
       " 38: 'Z',\n",
       " 39: 'a',\n",
       " 40: 'b',\n",
       " 41: 'c',\n",
       " 42: 'd',\n",
       " 43: 'e',\n",
       " 44: 'f',\n",
       " 45: 'g',\n",
       " 46: 'h',\n",
       " 47: 'i',\n",
       " 48: 'j',\n",
       " 49: 'k',\n",
       " 50: 'l',\n",
       " 51: 'm',\n",
       " 52: 'n',\n",
       " 53: 'o',\n",
       " 54: 'p',\n",
       " 55: 'q',\n",
       " 56: 'r',\n",
       " 57: 's',\n",
       " 58: 't',\n",
       " 59: 'u',\n",
       " 60: 'v',\n",
       " 61: 'w',\n",
       " 62: 'x',\n",
       " 63: 'y',\n",
       " 64: 'z'}"
      ]
     },
     "execution_count": 22,
     "metadata": {},
     "output_type": "execute_result"
    }
   ],
   "execution_count": 22
  },
  {
   "metadata": {
    "ExecuteTime": {
     "end_time": "2024-05-15T19:38:47.163074Z",
     "start_time": "2024-05-15T19:38:47.159398Z"
    }
   },
   "cell_type": "code",
   "source": [
    "def encode(s):\n",
    "  return_value = []\n",
    "  for character in s:\n",
    "    return_value.append(token_to_number[character])\n",
    "  return return_value\n",
    "\n",
    "encode(\"Tech Exchange\")"
   ],
   "id": "aa8e8ad75a88cab8",
   "outputs": [
    {
     "data": {
      "text/plain": [
       "[32, 43, 41, 46, 1, 17, 62, 41, 46, 39, 52, 45, 43]"
      ]
     },
     "execution_count": 23,
     "metadata": {},
     "output_type": "execute_result"
    }
   ],
   "execution_count": 23
  },
  {
   "metadata": {
    "ExecuteTime": {
     "end_time": "2024-05-15T19:38:57.465253Z",
     "start_time": "2024-05-15T19:38:57.462072Z"
    }
   },
   "cell_type": "code",
   "source": [
    "def decode(nums):\n",
    "  return ''.join([number_to_token[n] for n in nums])\n",
    "\n",
    "decode(encode(\"Tech Exchange\"))"
   ],
   "id": "2dd2497a0ddbbeab",
   "outputs": [
    {
     "data": {
      "text/plain": [
       "'Tech Exchange'"
      ]
     },
     "execution_count": 24,
     "metadata": {},
     "output_type": "execute_result"
    }
   ],
   "execution_count": 24
  },
  {
   "metadata": {
    "ExecuteTime": {
     "end_time": "2024-05-15T19:40:09.623148Z",
     "start_time": "2024-05-15T19:40:09.522904Z"
    }
   },
   "cell_type": "code",
   "source": [
    "import torch\n",
    "\n",
    "# data = torch.tensor(encode(raw_training_data), dtype=torch.long)\n",
    "\n",
    "data = torch.tensor(encode(raw_training_data), dtype=torch.long)"
   ],
   "id": "1b453e0847999dd5",
   "outputs": [],
   "execution_count": 25
  },
  {
   "metadata": {
    "ExecuteTime": {
     "end_time": "2024-05-15T19:40:18.926923Z",
     "start_time": "2024-05-15T19:40:18.923292Z"
    }
   },
   "cell_type": "code",
   "source": [
    "holdout_size = int(0.1 * len(data))\n",
    "holdout_size"
   ],
   "id": "df59f26d54122e0b",
   "outputs": [
    {
     "data": {
      "text/plain": [
       "111539"
      ]
     },
     "execution_count": 26,
     "metadata": {},
     "output_type": "execute_result"
    }
   ],
   "execution_count": 26
  },
  {
   "metadata": {
    "ExecuteTime": {
     "end_time": "2024-05-15T19:40:26.947893Z",
     "start_time": "2024-05-15T19:40:26.944777Z"
    }
   },
   "cell_type": "code",
   "source": [
    "test_data = data[:holdout_size]\n",
    "training_data = data[holdout_size:]\n",
    "len(test_data), len(training_data)"
   ],
   "id": "71ad98cbe63769d7",
   "outputs": [
    {
     "data": {
      "text/plain": [
       "(111539, 1003855)"
      ]
     },
     "execution_count": 27,
     "metadata": {},
     "output_type": "execute_result"
    }
   ],
   "execution_count": 27
  },
  {
   "metadata": {
    "ExecuteTime": {
     "end_time": "2024-05-15T19:41:07.433589Z",
     "start_time": "2024-05-15T19:41:07.428998Z"
    }
   },
   "cell_type": "code",
   "source": [
    "BLOCK_SIZE = 8\n",
    "training_data[:BLOCK_SIZE+1]"
   ],
   "id": "dc459ff88ff23428",
   "outputs": [
    {
     "data": {
      "text/plain": [
       "tensor([43, 58,  6,  1, 25, 39, 56, 41, 47])"
      ]
     },
     "execution_count": 29,
     "metadata": {},
     "output_type": "execute_result"
    }
   ],
   "execution_count": 29
  },
  {
   "metadata": {
    "ExecuteTime": {
     "end_time": "2024-05-15T19:45:43.295448Z",
     "start_time": "2024-05-15T19:45:43.292129Z"
    }
   },
   "cell_type": "code",
   "source": [
    "start_from = random.randint(0, training_data_size-BLOCK_SIZE)\n",
    "decode(training_data[start_from:start_from+BLOCK_SIZE].tolist())"
   ],
   "id": "89fc6b8331cc572e",
   "outputs": [
    {
     "data": {
      "text/plain": [
       "'o meet t'"
      ]
     },
     "execution_count": 37,
     "metadata": {},
     "output_type": "execute_result"
    }
   ],
   "execution_count": 37
  },
  {
   "metadata": {
    "ExecuteTime": {
     "end_time": "2024-05-15T19:48:11.005579Z",
     "start_time": "2024-05-15T19:48:11.000418Z"
    }
   },
   "cell_type": "code",
   "source": [
    "x = training_data[:BLOCK_SIZE]\n",
    "y = training_data[1:BLOCK_SIZE+1]\n",
    "for t in range(BLOCK_SIZE):\n",
    "    context = x[:t+1]\n",
    "    target = y[t]\n",
    "    print(f'in: {context}, out: {target}')"
   ],
   "id": "31e2218bb8ed3a69",
   "outputs": [
    {
     "name": "stdout",
     "output_type": "stream",
     "text": [
      "in: tensor([43]), out: 58\n",
      "in: tensor([43, 58]), out: 6\n",
      "in: tensor([43, 58,  6]), out: 1\n",
      "in: tensor([43, 58,  6,  1]), out: 25\n",
      "in: tensor([43, 58,  6,  1, 25]), out: 39\n",
      "in: tensor([43, 58,  6,  1, 25, 39]), out: 56\n",
      "in: tensor([43, 58,  6,  1, 25, 39, 56]), out: 41\n",
      "in: tensor([43, 58,  6,  1, 25, 39, 56, 41]), out: 47\n"
     ]
    }
   ],
   "execution_count": 40
  },
  {
   "metadata": {
    "ExecuteTime": {
     "end_time": "2024-05-15T19:55:16.339383Z",
     "start_time": "2024-05-15T19:55:16.333909Z"
    }
   },
   "cell_type": "code",
   "source": [
    "torch.manual_seed(1337)\n",
    "\n",
    "batch_size = 4\n",
    "block_size = 8"
   ],
   "id": "68d2456070a12159",
   "outputs": [],
   "execution_count": 41
  },
  {
   "metadata": {
    "ExecuteTime": {
     "end_time": "2024-05-15T20:02:47.386058Z",
     "start_time": "2024-05-15T20:02:47.379772Z"
    }
   },
   "cell_type": "code",
   "source": [
    "def get_batch(split):\n",
    "    data = training_data if split == 'train' else test_data\n",
    "    ix = torch.randint(len(data) - BLOCK_SIZE, (batch_size,))\n",
    "    x = torch.stack([data[i:i+BLOCK_SIZE] for i in ix])\n",
    "    y = torch.stack([data[i+1:i+BLOCK_SIZE + 1] for i in ix])\n",
    "    return x, y, ix\n",
    "get_batch('train')"
   ],
   "id": "91dfa2001a541b99",
   "outputs": [
    {
     "data": {
      "text/plain": [
       "(tensor([[ 1, 39, 52,  1, 43, 51, 54, 58],\n",
       "         [24, 47, 44, 43,  1, 39, 52, 42],\n",
       "         [46, 47, 57,  6,  1, 39, 52, 42],\n",
       "         [59, 56,  1, 50, 43, 39, 60, 43]]),\n",
       " tensor([[39, 52,  1, 43, 51, 54, 58, 63],\n",
       "         [47, 44, 43,  1, 39, 52, 42,  1],\n",
       "         [47, 57,  6,  1, 39, 52, 42,  1],\n",
       "         [56,  1, 50, 43, 39, 60, 43, 10]]),\n",
       " tensor([354206, 441059, 202438, 947011]))"
      ]
     },
     "execution_count": 50,
     "metadata": {},
     "output_type": "execute_result"
    }
   ],
   "execution_count": 50
  },
  {
   "metadata": {
    "ExecuteTime": {
     "end_time": "2024-05-15T20:09:53.836729Z",
     "start_time": "2024-05-15T20:09:53.825459Z"
    }
   },
   "cell_type": "code",
   "source": [
    "xb,yb = get_batch('train')\n",
    "\n",
    "for b in range(BATCH_SIZE):\n",
    "    for t in range(BLOCK_SIZE):\n",
    "        context = yb[b, :t+1]\n",
    "        target = yb[b,t]\n",
    "        print(f'input {context.tolist()}, target{target}')"
   ],
   "id": "4c3f822c26672abb",
   "outputs": [
    {
     "ename": "ValueError",
     "evalue": "too many values to unpack (expected 2)",
     "output_type": "error",
     "traceback": [
      "\u001B[0;31m---------------------------------------------------------------------------\u001B[0m",
      "\u001B[0;31mValueError\u001B[0m                                Traceback (most recent call last)",
      "Cell \u001B[0;32mIn[51], line 1\u001B[0m\n\u001B[0;32m----> 1\u001B[0m xb,yb \u001B[38;5;241m=\u001B[39m get_batch(\u001B[38;5;124m'\u001B[39m\u001B[38;5;124mtrain\u001B[39m\u001B[38;5;124m'\u001B[39m)\n\u001B[1;32m      3\u001B[0m \u001B[38;5;28;01mfor\u001B[39;00m b \u001B[38;5;129;01min\u001B[39;00m \u001B[38;5;28mrange\u001B[39m(batch_size):\n\u001B[1;32m      4\u001B[0m     \u001B[38;5;28;01mfor\u001B[39;00m t \u001B[38;5;129;01min\u001B[39;00m \u001B[38;5;28mrange\u001B[39m(BLOCK_SIZE):\n",
      "\u001B[0;31mValueError\u001B[0m: too many values to unpack (expected 2)"
     ]
    }
   ],
   "execution_count": 51
  },
  {
   "metadata": {
    "ExecuteTime": {
     "end_time": "2024-05-15T20:12:01.380201Z",
     "start_time": "2024-05-15T20:12:01.378337Z"
    }
   },
   "cell_type": "code",
   "source": [
    "import torch\n",
    "import torch.nn as nn\n",
    "from torch.nn import functional as F"
   ],
   "id": "27b74cda7afb7949",
   "outputs": [],
   "execution_count": 52
  },
  {
   "metadata": {},
   "cell_type": "code",
   "outputs": [],
   "execution_count": null,
   "source": [
    "class BigramLanguageModel(nn.Module):\n",
    "    def __init__(self, vocab_size):\n",
    "        super().__init__()\n",
    "        self.token_embedding_table = nn.Embedding(vocab_size, vocab_size)"
   ],
   "id": "7c1095abcb5630fa"
  }
 ],
 "metadata": {
  "kernelspec": {
   "display_name": "Python 3",
   "language": "python",
   "name": "python3"
  },
  "language_info": {
   "codemirror_mode": {
    "name": "ipython",
    "version": 2
   },
   "file_extension": ".py",
   "mimetype": "text/x-python",
   "name": "python",
   "nbconvert_exporter": "python",
   "pygments_lexer": "ipython2",
   "version": "2.7.6"
  }
 },
 "nbformat": 4,
 "nbformat_minor": 5
}
